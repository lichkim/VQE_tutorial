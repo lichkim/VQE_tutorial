{
 "cells": [
  {
   "cell_type": "markdown",
   "metadata": {},
   "source": [
    "# 5. Variational Eigensolver (VQE) Algorithm"
   ]
  },
  {
   "cell_type": "markdown",
   "metadata": {},
   "source": [
    "## Installation"
   ]
  },
  {
   "cell_type": "code",
   "execution_count": 5,
   "metadata": {},
   "outputs": [
    {
     "name": "stdout",
     "output_type": "stream",
     "text": [
      "Defaulting to user installation because normal site-packages is not writeable\n",
      "Requirement already satisfied: numpy in /Users/yoonho/Library/Python/3.9/lib/python/site-packages (1.23.5)\n",
      "\n",
      "\u001b[1m[\u001b[0m\u001b[34;49mnotice\u001b[0m\u001b[1;39;49m]\u001b[0m\u001b[39;49m A new release of pip is available: \u001b[0m\u001b[31;49m23.3.2\u001b[0m\u001b[39;49m -> \u001b[0m\u001b[32;49m24.0\u001b[0m\n",
      "\u001b[1m[\u001b[0m\u001b[34;49mnotice\u001b[0m\u001b[1;39;49m]\u001b[0m\u001b[39;49m To update, run: \u001b[0m\u001b[32;49m/Library/Developer/CommandLineTools/usr/bin/python3 -m pip install --upgrade pip\u001b[0m\n",
      "Defaulting to user installation because normal site-packages is not writeable\n",
      "Requirement already satisfied: qiskit in /Users/yoonho/Library/Python/3.9/lib/python/site-packages (0.45.1)\n",
      "Requirement already satisfied: qiskit-terra==0.45.1 in /Users/yoonho/Library/Python/3.9/lib/python/site-packages (from qiskit) (0.45.1)\n",
      "Requirement already satisfied: rustworkx>=0.13.0 in /Users/yoonho/Library/Python/3.9/lib/python/site-packages (from qiskit-terra==0.45.1->qiskit) (0.13.0)\n",
      "Requirement already satisfied: numpy<2,>=1.17 in /Users/yoonho/Library/Python/3.9/lib/python/site-packages (from qiskit-terra==0.45.1->qiskit) (1.23.5)\n",
      "Requirement already satisfied: ply>=3.10 in /Users/yoonho/Library/Python/3.9/lib/python/site-packages (from qiskit-terra==0.45.1->qiskit) (3.11)\n",
      "Requirement already satisfied: psutil>=5 in /Users/yoonho/Library/Python/3.9/lib/python/site-packages (from qiskit-terra==0.45.1->qiskit) (5.9.5)\n",
      "Requirement already satisfied: scipy>=1.5 in /Users/yoonho/Library/Python/3.9/lib/python/site-packages (from qiskit-terra==0.45.1->qiskit) (1.11.1)\n",
      "Requirement already satisfied: sympy>=1.3 in /Users/yoonho/Library/Python/3.9/lib/python/site-packages (from qiskit-terra==0.45.1->qiskit) (1.12)\n",
      "Requirement already satisfied: dill>=0.3 in /Users/yoonho/Library/Python/3.9/lib/python/site-packages (from qiskit-terra==0.45.1->qiskit) (0.3.7)\n",
      "Requirement already satisfied: python-dateutil>=2.8.0 in /Users/yoonho/Library/Python/3.9/lib/python/site-packages (from qiskit-terra==0.45.1->qiskit) (2.8.2)\n",
      "Requirement already satisfied: stevedore>=3.0.0 in /Users/yoonho/Library/Python/3.9/lib/python/site-packages (from qiskit-terra==0.45.1->qiskit) (5.1.0)\n",
      "Requirement already satisfied: symengine!=0.10.0,>=0.9 in /Users/yoonho/Library/Python/3.9/lib/python/site-packages (from qiskit-terra==0.45.1->qiskit) (0.9.2)\n",
      "Requirement already satisfied: typing-extensions in /Users/yoonho/Library/Python/3.9/lib/python/site-packages (from qiskit-terra==0.45.1->qiskit) (4.7.1)\n",
      "Requirement already satisfied: six>=1.5 in /Library/Developer/CommandLineTools/Library/Frameworks/Python3.framework/Versions/3.9/lib/python3.9/site-packages (from python-dateutil>=2.8.0->qiskit-terra==0.45.1->qiskit) (1.15.0)\n",
      "Requirement already satisfied: pbr!=2.1.0,>=2.0.0 in /Users/yoonho/Library/Python/3.9/lib/python/site-packages (from stevedore>=3.0.0->qiskit-terra==0.45.1->qiskit) (5.11.1)\n",
      "Requirement already satisfied: mpmath>=0.19 in /Users/yoonho/Library/Python/3.9/lib/python/site-packages (from sympy>=1.3->qiskit-terra==0.45.1->qiskit) (1.3.0)\n",
      "\n",
      "\u001b[1m[\u001b[0m\u001b[34;49mnotice\u001b[0m\u001b[1;39;49m]\u001b[0m\u001b[39;49m A new release of pip is available: \u001b[0m\u001b[31;49m23.3.2\u001b[0m\u001b[39;49m -> \u001b[0m\u001b[32;49m24.0\u001b[0m\n",
      "\u001b[1m[\u001b[0m\u001b[34;49mnotice\u001b[0m\u001b[1;39;49m]\u001b[0m\u001b[39;49m To update, run: \u001b[0m\u001b[32;49m/Library/Developer/CommandLineTools/usr/bin/python3 -m pip install --upgrade pip\u001b[0m\n",
      "Defaulting to user installation because normal site-packages is not writeable\n",
      "Requirement already satisfied: qiskit[visualization] in /Users/yoonho/Library/Python/3.9/lib/python/site-packages (0.45.1)\n",
      "Requirement already satisfied: qiskit-terra==0.45.1 in /Users/yoonho/Library/Python/3.9/lib/python/site-packages (from qiskit[visualization]) (0.45.1)\n",
      "Requirement already satisfied: rustworkx>=0.13.0 in /Users/yoonho/Library/Python/3.9/lib/python/site-packages (from qiskit-terra==0.45.1->qiskit[visualization]) (0.13.0)\n",
      "Requirement already satisfied: numpy<2,>=1.17 in /Users/yoonho/Library/Python/3.9/lib/python/site-packages (from qiskit-terra==0.45.1->qiskit[visualization]) (1.23.5)\n",
      "Requirement already satisfied: ply>=3.10 in /Users/yoonho/Library/Python/3.9/lib/python/site-packages (from qiskit-terra==0.45.1->qiskit[visualization]) (3.11)\n",
      "Requirement already satisfied: psutil>=5 in /Users/yoonho/Library/Python/3.9/lib/python/site-packages (from qiskit-terra==0.45.1->qiskit[visualization]) (5.9.5)\n",
      "Requirement already satisfied: scipy>=1.5 in /Users/yoonho/Library/Python/3.9/lib/python/site-packages (from qiskit-terra==0.45.1->qiskit[visualization]) (1.11.1)\n",
      "Requirement already satisfied: sympy>=1.3 in /Users/yoonho/Library/Python/3.9/lib/python/site-packages (from qiskit-terra==0.45.1->qiskit[visualization]) (1.12)\n",
      "Requirement already satisfied: dill>=0.3 in /Users/yoonho/Library/Python/3.9/lib/python/site-packages (from qiskit-terra==0.45.1->qiskit[visualization]) (0.3.7)\n",
      "Requirement already satisfied: python-dateutil>=2.8.0 in /Users/yoonho/Library/Python/3.9/lib/python/site-packages (from qiskit-terra==0.45.1->qiskit[visualization]) (2.8.2)\n",
      "Requirement already satisfied: stevedore>=3.0.0 in /Users/yoonho/Library/Python/3.9/lib/python/site-packages (from qiskit-terra==0.45.1->qiskit[visualization]) (5.1.0)\n",
      "Requirement already satisfied: symengine!=0.10.0,>=0.9 in /Users/yoonho/Library/Python/3.9/lib/python/site-packages (from qiskit-terra==0.45.1->qiskit[visualization]) (0.9.2)\n",
      "Requirement already satisfied: typing-extensions in /Users/yoonho/Library/Python/3.9/lib/python/site-packages (from qiskit-terra==0.45.1->qiskit[visualization]) (4.7.1)\n",
      "Requirement already satisfied: matplotlib>=3.3 in /Users/yoonho/Library/Python/3.9/lib/python/site-packages (from qiskit-terra[visualization]; extra == \"visualization\"->qiskit[visualization]) (3.7.2)\n",
      "Requirement already satisfied: ipywidgets>=7.3.0 in /Users/yoonho/Library/Python/3.9/lib/python/site-packages (from qiskit-terra[visualization]; extra == \"visualization\"->qiskit[visualization]) (8.1.1)\n",
      "Requirement already satisfied: pydot in /Users/yoonho/Library/Python/3.9/lib/python/site-packages (from qiskit-terra[visualization]; extra == \"visualization\"->qiskit[visualization]) (2.0.0)\n",
      "Requirement already satisfied: pillow>=4.2.1 in /Users/yoonho/Library/Python/3.9/lib/python/site-packages (from qiskit-terra[visualization]; extra == \"visualization\"->qiskit[visualization]) (10.0.0)\n",
      "Requirement already satisfied: pylatexenc>=1.4 in /Users/yoonho/Library/Python/3.9/lib/python/site-packages (from qiskit-terra[visualization]; extra == \"visualization\"->qiskit[visualization]) (2.10)\n",
      "Requirement already satisfied: seaborn>=0.9.0 in /Users/yoonho/Library/Python/3.9/lib/python/site-packages (from qiskit-terra[visualization]; extra == \"visualization\"->qiskit[visualization]) (0.13.2)\n",
      "Requirement already satisfied: pygments>=2.4 in /Users/yoonho/Library/Python/3.9/lib/python/site-packages (from qiskit-terra[visualization]; extra == \"visualization\"->qiskit[visualization]) (2.15.1)\n",
      "Requirement already satisfied: comm>=0.1.3 in /Users/yoonho/Library/Python/3.9/lib/python/site-packages (from ipywidgets>=7.3.0->qiskit-terra[visualization]; extra == \"visualization\"->qiskit[visualization]) (0.1.3)\n",
      "Requirement already satisfied: ipython>=6.1.0 in /Users/yoonho/Library/Python/3.9/lib/python/site-packages (from ipywidgets>=7.3.0->qiskit-terra[visualization]; extra == \"visualization\"->qiskit[visualization]) (8.14.0)\n",
      "Requirement already satisfied: traitlets>=4.3.1 in /Users/yoonho/Library/Python/3.9/lib/python/site-packages (from ipywidgets>=7.3.0->qiskit-terra[visualization]; extra == \"visualization\"->qiskit[visualization]) (5.9.0)\n",
      "Requirement already satisfied: widgetsnbextension~=4.0.9 in /Users/yoonho/Library/Python/3.9/lib/python/site-packages (from ipywidgets>=7.3.0->qiskit-terra[visualization]; extra == \"visualization\"->qiskit[visualization]) (4.0.9)\n",
      "Requirement already satisfied: jupyterlab-widgets~=3.0.9 in /Users/yoonho/Library/Python/3.9/lib/python/site-packages (from ipywidgets>=7.3.0->qiskit-terra[visualization]; extra == \"visualization\"->qiskit[visualization]) (3.0.9)\n",
      "Requirement already satisfied: contourpy>=1.0.1 in /Users/yoonho/Library/Python/3.9/lib/python/site-packages (from matplotlib>=3.3->qiskit-terra[visualization]; extra == \"visualization\"->qiskit[visualization]) (1.1.0)\n",
      "Requirement already satisfied: cycler>=0.10 in /Users/yoonho/Library/Python/3.9/lib/python/site-packages (from matplotlib>=3.3->qiskit-terra[visualization]; extra == \"visualization\"->qiskit[visualization]) (0.11.0)\n",
      "Requirement already satisfied: fonttools>=4.22.0 in /Users/yoonho/Library/Python/3.9/lib/python/site-packages (from matplotlib>=3.3->qiskit-terra[visualization]; extra == \"visualization\"->qiskit[visualization]) (4.41.1)\n",
      "Requirement already satisfied: kiwisolver>=1.0.1 in /Users/yoonho/Library/Python/3.9/lib/python/site-packages (from matplotlib>=3.3->qiskit-terra[visualization]; extra == \"visualization\"->qiskit[visualization]) (1.4.4)\n",
      "Requirement already satisfied: packaging>=20.0 in /Users/yoonho/Library/Python/3.9/lib/python/site-packages (from matplotlib>=3.3->qiskit-terra[visualization]; extra == \"visualization\"->qiskit[visualization]) (23.1)\n",
      "Requirement already satisfied: pyparsing<3.1,>=2.3.1 in /Users/yoonho/Library/Python/3.9/lib/python/site-packages (from matplotlib>=3.3->qiskit-terra[visualization]; extra == \"visualization\"->qiskit[visualization]) (3.0.9)\n",
      "Requirement already satisfied: importlib-resources>=3.2.0 in /Users/yoonho/Library/Python/3.9/lib/python/site-packages (from matplotlib>=3.3->qiskit-terra[visualization]; extra == \"visualization\"->qiskit[visualization]) (6.0.0)\n",
      "Requirement already satisfied: six>=1.5 in /Library/Developer/CommandLineTools/Library/Frameworks/Python3.framework/Versions/3.9/lib/python3.9/site-packages (from python-dateutil>=2.8.0->qiskit-terra==0.45.1->qiskit[visualization]) (1.15.0)\n",
      "Requirement already satisfied: pandas>=1.2 in /Users/yoonho/Library/Python/3.9/lib/python/site-packages (from seaborn>=0.9.0->qiskit-terra[visualization]; extra == \"visualization\"->qiskit[visualization]) (2.2.0)\n",
      "Requirement already satisfied: pbr!=2.1.0,>=2.0.0 in /Users/yoonho/Library/Python/3.9/lib/python/site-packages (from stevedore>=3.0.0->qiskit-terra==0.45.1->qiskit[visualization]) (5.11.1)\n",
      "Requirement already satisfied: mpmath>=0.19 in /Users/yoonho/Library/Python/3.9/lib/python/site-packages (from sympy>=1.3->qiskit-terra==0.45.1->qiskit[visualization]) (1.3.0)\n",
      "Requirement already satisfied: zipp>=3.1.0 in /Users/yoonho/Library/Python/3.9/lib/python/site-packages (from importlib-resources>=3.2.0->matplotlib>=3.3->qiskit-terra[visualization]; extra == \"visualization\"->qiskit[visualization]) (3.16.2)\n",
      "Requirement already satisfied: backcall in /Users/yoonho/Library/Python/3.9/lib/python/site-packages (from ipython>=6.1.0->ipywidgets>=7.3.0->qiskit-terra[visualization]; extra == \"visualization\"->qiskit[visualization]) (0.2.0)\n",
      "Requirement already satisfied: decorator in /Users/yoonho/Library/Python/3.9/lib/python/site-packages (from ipython>=6.1.0->ipywidgets>=7.3.0->qiskit-terra[visualization]; extra == \"visualization\"->qiskit[visualization]) (5.1.1)\n",
      "Requirement already satisfied: jedi>=0.16 in /Users/yoonho/Library/Python/3.9/lib/python/site-packages (from ipython>=6.1.0->ipywidgets>=7.3.0->qiskit-terra[visualization]; extra == \"visualization\"->qiskit[visualization]) (0.19.0)\n",
      "Requirement already satisfied: matplotlib-inline in /Users/yoonho/Library/Python/3.9/lib/python/site-packages (from ipython>=6.1.0->ipywidgets>=7.3.0->qiskit-terra[visualization]; extra == \"visualization\"->qiskit[visualization]) (0.1.6)\n",
      "Requirement already satisfied: pickleshare in /Users/yoonho/Library/Python/3.9/lib/python/site-packages (from ipython>=6.1.0->ipywidgets>=7.3.0->qiskit-terra[visualization]; extra == \"visualization\"->qiskit[visualization]) (0.7.5)\n",
      "Requirement already satisfied: prompt-toolkit!=3.0.37,<3.1.0,>=3.0.30 in /Users/yoonho/Library/Python/3.9/lib/python/site-packages (from ipython>=6.1.0->ipywidgets>=7.3.0->qiskit-terra[visualization]; extra == \"visualization\"->qiskit[visualization]) (3.0.39)\n",
      "Requirement already satisfied: stack-data in /Users/yoonho/Library/Python/3.9/lib/python/site-packages (from ipython>=6.1.0->ipywidgets>=7.3.0->qiskit-terra[visualization]; extra == \"visualization\"->qiskit[visualization]) (0.6.2)\n",
      "Requirement already satisfied: pexpect>4.3 in /Users/yoonho/Library/Python/3.9/lib/python/site-packages (from ipython>=6.1.0->ipywidgets>=7.3.0->qiskit-terra[visualization]; extra == \"visualization\"->qiskit[visualization]) (4.8.0)\n",
      "Requirement already satisfied: appnope in /Users/yoonho/Library/Python/3.9/lib/python/site-packages (from ipython>=6.1.0->ipywidgets>=7.3.0->qiskit-terra[visualization]; extra == \"visualization\"->qiskit[visualization]) (0.1.3)\n",
      "Requirement already satisfied: pytz>=2020.1 in /Users/yoonho/Library/Python/3.9/lib/python/site-packages (from pandas>=1.2->seaborn>=0.9.0->qiskit-terra[visualization]; extra == \"visualization\"->qiskit[visualization]) (2023.4)\n",
      "Requirement already satisfied: tzdata>=2022.7 in /Users/yoonho/Library/Python/3.9/lib/python/site-packages (from pandas>=1.2->seaborn>=0.9.0->qiskit-terra[visualization]; extra == \"visualization\"->qiskit[visualization]) (2023.4)\n",
      "Requirement already satisfied: parso<0.9.0,>=0.8.3 in /Users/yoonho/Library/Python/3.9/lib/python/site-packages (from jedi>=0.16->ipython>=6.1.0->ipywidgets>=7.3.0->qiskit-terra[visualization]; extra == \"visualization\"->qiskit[visualization]) (0.8.3)\n",
      "Requirement already satisfied: ptyprocess>=0.5 in /Users/yoonho/Library/Python/3.9/lib/python/site-packages (from pexpect>4.3->ipython>=6.1.0->ipywidgets>=7.3.0->qiskit-terra[visualization]; extra == \"visualization\"->qiskit[visualization]) (0.7.0)\n",
      "Requirement already satisfied: wcwidth in /Users/yoonho/Library/Python/3.9/lib/python/site-packages (from prompt-toolkit!=3.0.37,<3.1.0,>=3.0.30->ipython>=6.1.0->ipywidgets>=7.3.0->qiskit-terra[visualization]; extra == \"visualization\"->qiskit[visualization]) (0.2.6)\n",
      "Requirement already satisfied: executing>=1.2.0 in /Users/yoonho/Library/Python/3.9/lib/python/site-packages (from stack-data->ipython>=6.1.0->ipywidgets>=7.3.0->qiskit-terra[visualization]; extra == \"visualization\"->qiskit[visualization]) (1.2.0)\n",
      "Requirement already satisfied: asttokens>=2.1.0 in /Users/yoonho/Library/Python/3.9/lib/python/site-packages (from stack-data->ipython>=6.1.0->ipywidgets>=7.3.0->qiskit-terra[visualization]; extra == \"visualization\"->qiskit[visualization]) (2.2.1)\n",
      "Requirement already satisfied: pure-eval in /Users/yoonho/Library/Python/3.9/lib/python/site-packages (from stack-data->ipython>=6.1.0->ipywidgets>=7.3.0->qiskit-terra[visualization]; extra == \"visualization\"->qiskit[visualization]) (0.2.2)\n",
      "\n",
      "\u001b[1m[\u001b[0m\u001b[34;49mnotice\u001b[0m\u001b[1;39;49m]\u001b[0m\u001b[39;49m A new release of pip is available: \u001b[0m\u001b[31;49m23.3.2\u001b[0m\u001b[39;49m -> \u001b[0m\u001b[32;49m24.0\u001b[0m\n",
      "\u001b[1m[\u001b[0m\u001b[34;49mnotice\u001b[0m\u001b[1;39;49m]\u001b[0m\u001b[39;49m To update, run: \u001b[0m\u001b[32;49m/Library/Developer/CommandLineTools/usr/bin/python3 -m pip install --upgrade pip\u001b[0m\n",
      "Defaulting to user installation because normal site-packages is not writeable\n",
      "Requirement already satisfied: qiskit-nature in /Users/yoonho/Library/Python/3.9/lib/python/site-packages (0.6.2)\n",
      "Requirement already satisfied: qiskit-terra>=0.24 in /Users/yoonho/Library/Python/3.9/lib/python/site-packages (from qiskit-nature) (0.45.1)\n",
      "Requirement already satisfied: scipy>=1.4 in /Users/yoonho/Library/Python/3.9/lib/python/site-packages (from qiskit-nature) (1.11.1)\n",
      "Requirement already satisfied: numpy>=1.17 in /Users/yoonho/Library/Python/3.9/lib/python/site-packages (from qiskit-nature) (1.23.5)\n",
      "Requirement already satisfied: psutil>=5 in /Users/yoonho/Library/Python/3.9/lib/python/site-packages (from qiskit-nature) (5.9.5)\n",
      "Requirement already satisfied: scikit-learn>=0.20.0 in /Users/yoonho/Library/Python/3.9/lib/python/site-packages (from qiskit-nature) (1.3.0)\n",
      "Requirement already satisfied: setuptools>=40.1.0 in /Library/Developer/CommandLineTools/Library/Frameworks/Python3.framework/Versions/3.9/lib/python3.9/site-packages (from qiskit-nature) (58.0.4)\n",
      "Requirement already satisfied: typing-extensions in /Users/yoonho/Library/Python/3.9/lib/python/site-packages (from qiskit-nature) (4.7.1)\n",
      "Requirement already satisfied: h5py in /Users/yoonho/Library/Python/3.9/lib/python/site-packages (from qiskit-nature) (3.9.0)\n",
      "Requirement already satisfied: rustworkx in /Users/yoonho/Library/Python/3.9/lib/python/site-packages (from qiskit-nature) (0.13.0)\n",
      "Requirement already satisfied: ply>=3.10 in /Users/yoonho/Library/Python/3.9/lib/python/site-packages (from qiskit-terra>=0.24->qiskit-nature) (3.11)\n",
      "Requirement already satisfied: sympy>=1.3 in /Users/yoonho/Library/Python/3.9/lib/python/site-packages (from qiskit-terra>=0.24->qiskit-nature) (1.12)\n",
      "Requirement already satisfied: dill>=0.3 in /Users/yoonho/Library/Python/3.9/lib/python/site-packages (from qiskit-terra>=0.24->qiskit-nature) (0.3.7)\n",
      "Requirement already satisfied: python-dateutil>=2.8.0 in /Users/yoonho/Library/Python/3.9/lib/python/site-packages (from qiskit-terra>=0.24->qiskit-nature) (2.8.2)\n",
      "Requirement already satisfied: stevedore>=3.0.0 in /Users/yoonho/Library/Python/3.9/lib/python/site-packages (from qiskit-terra>=0.24->qiskit-nature) (5.1.0)\n",
      "Requirement already satisfied: symengine!=0.10.0,>=0.9 in /Users/yoonho/Library/Python/3.9/lib/python/site-packages (from qiskit-terra>=0.24->qiskit-nature) (0.9.2)\n",
      "Requirement already satisfied: joblib>=1.1.1 in /Users/yoonho/Library/Python/3.9/lib/python/site-packages (from scikit-learn>=0.20.0->qiskit-nature) (1.3.1)\n",
      "Requirement already satisfied: threadpoolctl>=2.0.0 in /Users/yoonho/Library/Python/3.9/lib/python/site-packages (from scikit-learn>=0.20.0->qiskit-nature) (3.2.0)\n",
      "Requirement already satisfied: six>=1.5 in /Library/Developer/CommandLineTools/Library/Frameworks/Python3.framework/Versions/3.9/lib/python3.9/site-packages (from python-dateutil>=2.8.0->qiskit-terra>=0.24->qiskit-nature) (1.15.0)\n",
      "Requirement already satisfied: pbr!=2.1.0,>=2.0.0 in /Users/yoonho/Library/Python/3.9/lib/python/site-packages (from stevedore>=3.0.0->qiskit-terra>=0.24->qiskit-nature) (5.11.1)\n",
      "Requirement already satisfied: mpmath>=0.19 in /Users/yoonho/Library/Python/3.9/lib/python/site-packages (from sympy>=1.3->qiskit-terra>=0.24->qiskit-nature) (1.3.0)\n",
      "\n",
      "\u001b[1m[\u001b[0m\u001b[34;49mnotice\u001b[0m\u001b[1;39;49m]\u001b[0m\u001b[39;49m A new release of pip is available: \u001b[0m\u001b[31;49m23.3.2\u001b[0m\u001b[39;49m -> \u001b[0m\u001b[32;49m24.0\u001b[0m\n",
      "\u001b[1m[\u001b[0m\u001b[34;49mnotice\u001b[0m\u001b[1;39;49m]\u001b[0m\u001b[39;49m To update, run: \u001b[0m\u001b[32;49m/Library/Developer/CommandLineTools/usr/bin/python3 -m pip install --upgrade pip\u001b[0m\n",
      "Defaulting to user installation because normal site-packages is not writeable\n",
      "Requirement already satisfied: pyscf in /Users/yoonho/Library/Python/3.9/lib/python/site-packages (2.3.0)\n",
      "Requirement already satisfied: numpy!=1.16,!=1.17,>=1.13 in /Users/yoonho/Library/Python/3.9/lib/python/site-packages (from pyscf) (1.23.5)\n",
      "Requirement already satisfied: scipy!=1.5.0,!=1.5.1 in /Users/yoonho/Library/Python/3.9/lib/python/site-packages (from pyscf) (1.11.1)\n",
      "Requirement already satisfied: h5py>=2.7 in /Users/yoonho/Library/Python/3.9/lib/python/site-packages (from pyscf) (3.9.0)\n",
      "\n",
      "\u001b[1m[\u001b[0m\u001b[34;49mnotice\u001b[0m\u001b[1;39;49m]\u001b[0m\u001b[39;49m A new release of pip is available: \u001b[0m\u001b[31;49m23.3.2\u001b[0m\u001b[39;49m -> \u001b[0m\u001b[32;49m24.0\u001b[0m\n",
      "\u001b[1m[\u001b[0m\u001b[34;49mnotice\u001b[0m\u001b[1;39;49m]\u001b[0m\u001b[39;49m To update, run: \u001b[0m\u001b[32;49m/Library/Developer/CommandLineTools/usr/bin/python3 -m pip install --upgrade pip\u001b[0m\n",
      "Defaulting to user installation because normal site-packages is not writeable\n",
      "Requirement already satisfied: qutip in /Users/yoonho/Library/Python/3.9/lib/python/site-packages (4.7.5)\n",
      "Requirement already satisfied: numpy>=1.16.6 in /Users/yoonho/Library/Python/3.9/lib/python/site-packages (from qutip) (1.23.5)\n",
      "Requirement already satisfied: scipy>=1.0 in /Users/yoonho/Library/Python/3.9/lib/python/site-packages (from qutip) (1.11.1)\n",
      "Requirement already satisfied: packaging in /Users/yoonho/Library/Python/3.9/lib/python/site-packages (from qutip) (23.1)\n",
      "\n",
      "\u001b[1m[\u001b[0m\u001b[34;49mnotice\u001b[0m\u001b[1;39;49m]\u001b[0m\u001b[39;49m A new release of pip is available: \u001b[0m\u001b[31;49m23.3.2\u001b[0m\u001b[39;49m -> \u001b[0m\u001b[32;49m24.0\u001b[0m\n",
      "\u001b[1m[\u001b[0m\u001b[34;49mnotice\u001b[0m\u001b[1;39;49m]\u001b[0m\u001b[39;49m To update, run: \u001b[0m\u001b[32;49m/Library/Developer/CommandLineTools/usr/bin/python3 -m pip install --upgrade pip\u001b[0m\n",
      "Defaulting to user installation because normal site-packages is not writeable\n",
      "Requirement already satisfied: ase in /Users/yoonho/Library/Python/3.9/lib/python/site-packages (3.22.1)\n",
      "Requirement already satisfied: matplotlib>=3.1.0 in /Users/yoonho/Library/Python/3.9/lib/python/site-packages (from ase) (3.7.2)\n",
      "Requirement already satisfied: numpy>=1.15.0 in /Users/yoonho/Library/Python/3.9/lib/python/site-packages (from ase) (1.23.5)\n",
      "Requirement already satisfied: scipy>=1.1.0 in /Users/yoonho/Library/Python/3.9/lib/python/site-packages (from ase) (1.11.1)\n",
      "Requirement already satisfied: contourpy>=1.0.1 in /Users/yoonho/Library/Python/3.9/lib/python/site-packages (from matplotlib>=3.1.0->ase) (1.1.0)\n",
      "Requirement already satisfied: cycler>=0.10 in /Users/yoonho/Library/Python/3.9/lib/python/site-packages (from matplotlib>=3.1.0->ase) (0.11.0)\n",
      "Requirement already satisfied: fonttools>=4.22.0 in /Users/yoonho/Library/Python/3.9/lib/python/site-packages (from matplotlib>=3.1.0->ase) (4.41.1)\n",
      "Requirement already satisfied: kiwisolver>=1.0.1 in /Users/yoonho/Library/Python/3.9/lib/python/site-packages (from matplotlib>=3.1.0->ase) (1.4.4)\n",
      "Requirement already satisfied: packaging>=20.0 in /Users/yoonho/Library/Python/3.9/lib/python/site-packages (from matplotlib>=3.1.0->ase) (23.1)\n",
      "Requirement already satisfied: pillow>=6.2.0 in /Users/yoonho/Library/Python/3.9/lib/python/site-packages (from matplotlib>=3.1.0->ase) (10.0.0)\n",
      "Requirement already satisfied: pyparsing<3.1,>=2.3.1 in /Users/yoonho/Library/Python/3.9/lib/python/site-packages (from matplotlib>=3.1.0->ase) (3.0.9)\n",
      "Requirement already satisfied: python-dateutil>=2.7 in /Users/yoonho/Library/Python/3.9/lib/python/site-packages (from matplotlib>=3.1.0->ase) (2.8.2)\n",
      "Requirement already satisfied: importlib-resources>=3.2.0 in /Users/yoonho/Library/Python/3.9/lib/python/site-packages (from matplotlib>=3.1.0->ase) (6.0.0)\n",
      "Requirement already satisfied: zipp>=3.1.0 in /Users/yoonho/Library/Python/3.9/lib/python/site-packages (from importlib-resources>=3.2.0->matplotlib>=3.1.0->ase) (3.16.2)\n",
      "Requirement already satisfied: six>=1.5 in /Library/Developer/CommandLineTools/Library/Frameworks/Python3.framework/Versions/3.9/lib/python3.9/site-packages (from python-dateutil>=2.7->matplotlib>=3.1.0->ase) (1.15.0)\n",
      "\n",
      "\u001b[1m[\u001b[0m\u001b[34;49mnotice\u001b[0m\u001b[1;39;49m]\u001b[0m\u001b[39;49m A new release of pip is available: \u001b[0m\u001b[31;49m23.3.2\u001b[0m\u001b[39;49m -> \u001b[0m\u001b[32;49m24.0\u001b[0m\n",
      "\u001b[1m[\u001b[0m\u001b[34;49mnotice\u001b[0m\u001b[1;39;49m]\u001b[0m\u001b[39;49m To update, run: \u001b[0m\u001b[32;49m/Library/Developer/CommandLineTools/usr/bin/python3 -m pip install --upgrade pip\u001b[0m\n",
      "Defaulting to user installation because normal site-packages is not writeable\n",
      "Requirement already satisfied: pyqmc in /Users/yoonho/Library/Python/3.9/lib/python/site-packages (0.6.0)\n",
      "Requirement already satisfied: scipy in /Users/yoonho/Library/Python/3.9/lib/python/site-packages (from pyqmc) (1.11.1)\n",
      "Requirement already satisfied: pandas in /Users/yoonho/Library/Python/3.9/lib/python/site-packages (from pyqmc) (2.2.0)\n",
      "Requirement already satisfied: pyscf in /Users/yoonho/Library/Python/3.9/lib/python/site-packages (from pyqmc) (2.3.0)\n",
      "Requirement already satisfied: h5py in /Users/yoonho/Library/Python/3.9/lib/python/site-packages (from pyqmc) (3.9.0)\n",
      "Requirement already satisfied: numpy>=1.17.3 in /Users/yoonho/Library/Python/3.9/lib/python/site-packages (from h5py->pyqmc) (1.23.5)\n",
      "Requirement already satisfied: python-dateutil>=2.8.2 in /Users/yoonho/Library/Python/3.9/lib/python/site-packages (from pandas->pyqmc) (2.8.2)\n",
      "Requirement already satisfied: pytz>=2020.1 in /Users/yoonho/Library/Python/3.9/lib/python/site-packages (from pandas->pyqmc) (2023.4)\n",
      "Requirement already satisfied: tzdata>=2022.7 in /Users/yoonho/Library/Python/3.9/lib/python/site-packages (from pandas->pyqmc) (2023.4)\n",
      "Requirement already satisfied: six>=1.5 in /Library/Developer/CommandLineTools/Library/Frameworks/Python3.framework/Versions/3.9/lib/python3.9/site-packages (from python-dateutil>=2.8.2->pandas->pyqmc) (1.15.0)\n",
      "\n",
      "\u001b[1m[\u001b[0m\u001b[34;49mnotice\u001b[0m\u001b[1;39;49m]\u001b[0m\u001b[39;49m A new release of pip is available: \u001b[0m\u001b[31;49m23.3.2\u001b[0m\u001b[39;49m -> \u001b[0m\u001b[32;49m24.0\u001b[0m\n",
      "\u001b[1m[\u001b[0m\u001b[34;49mnotice\u001b[0m\u001b[1;39;49m]\u001b[0m\u001b[39;49m To update, run: \u001b[0m\u001b[32;49m/Library/Developer/CommandLineTools/usr/bin/python3 -m pip install --upgrade pip\u001b[0m\n",
      "Defaulting to user installation because normal site-packages is not writeable\n",
      "Requirement already satisfied: h5py in /Users/yoonho/Library/Python/3.9/lib/python/site-packages (3.9.0)\n",
      "Requirement already satisfied: numpy>=1.17.3 in /Users/yoonho/Library/Python/3.9/lib/python/site-packages (from h5py) (1.23.5)\n",
      "\n",
      "\u001b[1m[\u001b[0m\u001b[34;49mnotice\u001b[0m\u001b[1;39;49m]\u001b[0m\u001b[39;49m A new release of pip is available: \u001b[0m\u001b[31;49m23.3.2\u001b[0m\u001b[39;49m -> \u001b[0m\u001b[32;49m24.0\u001b[0m\n",
      "\u001b[1m[\u001b[0m\u001b[34;49mnotice\u001b[0m\u001b[1;39;49m]\u001b[0m\u001b[39;49m To update, run: \u001b[0m\u001b[32;49m/Library/Developer/CommandLineTools/usr/bin/python3 -m pip install --upgrade pip\u001b[0m\n",
      "Defaulting to user installation because normal site-packages is not writeable\n",
      "Requirement already satisfied: scipy in /Users/yoonho/Library/Python/3.9/lib/python/site-packages (1.11.1)\n",
      "Requirement already satisfied: numpy<1.28.0,>=1.21.6 in /Users/yoonho/Library/Python/3.9/lib/python/site-packages (from scipy) (1.23.5)\n",
      "\n",
      "\u001b[1m[\u001b[0m\u001b[34;49mnotice\u001b[0m\u001b[1;39;49m]\u001b[0m\u001b[39;49m A new release of pip is available: \u001b[0m\u001b[31;49m23.3.2\u001b[0m\u001b[39;49m -> \u001b[0m\u001b[32;49m24.0\u001b[0m\n",
      "\u001b[1m[\u001b[0m\u001b[34;49mnotice\u001b[0m\u001b[1;39;49m]\u001b[0m\u001b[39;49m To update, run: \u001b[0m\u001b[32;49m/Library/Developer/CommandLineTools/usr/bin/python3 -m pip install --upgrade pip\u001b[0m\n"
     ]
    }
   ],
   "source": [
    "# Installation code\n",
    "!pip install numpy\n",
    "!pip install qiskit\n",
    "!pip install 'qiskit[visualization]'\n",
    "!pip install qiskit-nature\n",
    "!pip install pyscf\n",
    "!pip install qutip\n",
    "!pip install ase\n",
    "!pip install pyqmc --upgrade\n",
    "!pip install h5py\n",
    "!pip install scipy\n"
   ]
  },
  {
   "cell_type": "code",
   "execution_count": 6,
   "metadata": {},
   "outputs": [
    {
     "name": "stderr",
     "output_type": "stream",
     "text": [
      "/Users/yoonho/Library/Python/3.9/lib/python/site-packages/pyscf/dft/libxc.py:772: UserWarning: Since PySCF-2.3, B3LYP (and B3P86) are changed to the VWN-RPA variant, the same to the B3LYP functional in Gaussian and ORCA (issue 1480). To restore the VWN5 definition, you can put the setting \"B3LYP_WITH_VWN5 = True\" in pyscf_conf.py\n",
      "  warnings.warn('Since PySCF-2.3, B3LYP (and B3P86) are changed to the VWN-RPA variant, '\n"
     ]
    }
   ],
   "source": [
    "import numpy as np\n",
    "import matplotlib.pyplot as plt\n",
    "from qiskit.visualization import array_to_latex, plot_bloch_vector, plot_bloch_multivector, plot_state_qsphere, plot_state_city\n",
    "from qiskit import QuantumRegister, ClassicalRegister,QuantumCircuit, transpile\n",
    "from qiskit import execute, Aer\n",
    "import qiskit.quantum_info as qi\n",
    "from qiskit.extensions import Initialize\n",
    "#from qiskit.providers.aer import extensions  # import aersnapshot instructions\n",
    "from qiskit import Aer\n",
    "from qiskit_nature.drivers import UnitsType, Molecule\n",
    "from qiskit_nature.second_q.formats.molecule_info import MoleculeInfo\n",
    "from qiskit_nature.units import DistanceUnit\n",
    "from qiskit_nature.second_q.drivers import PySCFDriver\n",
    "from qiskit_nature.second_q.mappers import QubitConverter\n",
    "from qiskit_nature.second_q.mappers import ParityMapper, JordanWignerMapper, BravyiKitaevMapper\n",
    "from qiskit_nature.second_q.properties import ParticleNumber\n",
    "from qiskit_nature.second_q.transformers import ActiveSpaceTransformer, FreezeCoreTransformer\n",
    "from qiskit_nature import settings\n",
    "from qiskit.providers.aer import StatevectorSimulator\n",
    "from qiskit import Aer\n",
    "from qiskit.primitives import Sampler\n",
    "from qiskit.algorithms import HamiltonianPhaseEstimation, PhaseEstimation\n",
    "from qiskit.primitives import Estimator\n",
    "from qiskit.algorithms.optimizers import SLSQP, SPSA, QNSPSA\n",
    "from qiskit_nature.second_q.circuit.library import UCCSD, HartreeFock\n",
    "\n",
    "from qiskit.algorithms.minimum_eigensolvers import NumPyMinimumEigensolver, VQE\n",
    "from qiskit_nature.second_q.algorithms.ground_state_solvers import GroundStateEigensolver\n",
    "from qiskit.circuit.library import TwoLocal\n",
    "from functools import partial as apply_variation\n",
    "\n",
    "from pyscf import gto, scf\n",
    "import pyqmc.api as pyq\n",
    "import h5py\n",
    "from ase import Atoms\n",
    "from ase.build import molecule\n",
    "from ase.visualize import view\n",
    "import cmath\n",
    "import math\n",
    "import scipy.stats as stats\n",
    "import qutip\n",
    "import time, datetime\n",
    "import pandas as pd\n",
    "import os.path"
   ]
  },
  {
   "cell_type": "markdown",
   "metadata": {},
   "source": [
    "## 5.1. Variational method"
   ]
  },
  {
   "cell_type": "markdown",
   "metadata": {},
   "source": [
    "### 5.1.1. The Rayleigh-Ritz variational theorem"
   ]
  },
  {
   "cell_type": "markdown",
   "metadata": {},
   "source": [
    "Rayleigh-Ritz variational theorem이 말하고자 하는것은 어떤 계의 헤밀토니안 $\\hat H$ 의 어떤 임의의 파동함수로 표현되는 어떤상태에 대한 기댓값은 언제나 바닥상태 에너지 $(E_0)$보다는 크다는것을 의미한다. 즉, 이를 수식으로 표현하면 아래와 같다. \n",
    "$$E_\\Psi = \\langle \\Psi \\vert E \\vert \\Psi \\rangle = \\frac{\\int \\Psi^\\dagger \\hat H \\Psi d\\tau}{\\int \\Psi^\\dagger  \\Psi d\\tau} \\geq E_0$$\n",
    "\n",
    "여기서 적분변수 $\\tau$ 는 일반적인 시간, 공간 혹은 스핀 등의 변수를 의미한다. 여기까지의 표현은 아직 어떤 화학적인 제한은 없다. \n"
   ]
  },
  {
   "cell_type": "markdown",
   "metadata": {},
   "source": [
    "위의 식을 증명해보자. \n",
    "헤밀토니안에 대해 Completeness Relation 을 사용할것이다. 즉, Hermitian 연산자에대해 언제나 orthonormal 한 basis를 가진다는것을 이용해 전개해볼것이다. 즉,\n",
    "$$\\hat H \\vert e_i \\rangle = E_i \\vert e_i \\rangle$$\n",
    "로부터 아래의 관계식 (Completeness Relation)을 얻을 수 있다. \n",
    "$$\\hat H = \\sum_{i=0}^K E_i \\vert e_i \\rangle \\langle e_i \\vert  $$\n",
    "\n",
    "이 헤밀토니안의 orthonormal 한 basis ($e_i$) 는 Complete 하므로 \n",
    "\n",
    "e_i 를 통해 어떤 임의의 상태를 표현 할 수 있다. \n",
    "$$\\vert \\Psi_{arbitrary} \\rangle = \\sum_{k=0}^K c_k \\vert e_k \\rangle $$\n",
    "여기서 $c_k = \\vert e_k \\vert \\Psi \\rangle$ 이고, 정규화 조건을 만족한다. $\\langle \\Psi \\vert \\Psi \\rangle = \\sum_{k=0}^K {\\vert c_k \\vert}^2 =1$\n",
    "\n",
    "이렇게 정의를 해두고 앞의 우리가 보고자했던 헤밀토니안의 기댓값 식 ($\\langle \\Psi \\vert E \\vert \\Psi \\rangle$)에 대입해보자\n",
    "\n",
    "$$\\langle \\Psi \\vert \\hat H \\vert \\Psi \\rangle = \\sum_{k=0}^K \\langle {c_k}^* e_k \\vert \\hat H \\vert c_k e_k \\rangle = \\sum_{k=0}^K {c_k}^* c_k \\langle  e_k \\vert \\hat H \\vert  e_k \\rangle =\\sum_{k=0}^K {c_k}^* c_k E_k \\langle  e_k \\vert e_k \\rangle =  \\sum_{k=0}^K  E_k {|c_k|}^2 \\geq E_0$$\n",
    "\n",
    "거의다 왔다. $c_k $ 와 $\\vert e_k \\rangle$ 과, k가 이제 무슨 의미인지를 알아보자. \n",
    "\n",
    "$e_k$ 는 Hamiltonian $\\hat H $ 의 basis로 정의하였다. 그리고 k번째 basis 와 hamiltonian의 내적값은 k번째 에너지이다. (낮은순서대로)\n",
    "\n",
    "그래서 $c_0$ 가 1이고, 나머지 $c_k (k \\neq 0)$ 가 0일때, 우리가 보고자하는 상태의 헤밀토니안의 기댓값은 바닥상태 에너지 $E_0$이고, 이 이외의 경우에는 무조건 $E_0$ 보다는 큰 에너지를 가지게된다. 즉 아래의 식으로 표현 할 수 있다. \n",
    "\n",
    "$$E_\\Psi = \\frac{\\langle \\Psi \\vert \\hat H \\vert \\Psi \\rangle} {\\langle \\Psi \\vert \\Psi \\rangle} \\geq \\frac{\\langle \\Psi_0 \\vert \\hat H \\vert \\Psi_0 \\rangle} {\\langle \\Psi_0 \\vert \\Psi_0 \\rangle} = E_0$$\n",
    "\n",
    "물론 최소를 찾으려면, 파동함수를 구성하는 파라미터들로 미분을 통해 구할 수 있다. \n",
    "\n",
    "이 변분 Thrm. (Rayleigh-Ritz variational theorem)은, 분자 전자구조의 헤밀토니안에서는 만족한다. "
   ]
  },
  {
   "cell_type": "markdown",
   "metadata": {},
   "source": [
    "### 5.1.2. Variational Monte Carlo (VMC) methods"
   ]
  },
  {
   "cell_type": "markdown",
   "metadata": {},
   "source": [
    "VMC 방식은 앞서 설명한 Rayleigh-Ritz variational theorem 과 and Monte Carlo integration methods을 기반으로 만들어졌다. \n",
    "\n",
    "변분원리에서 이러한 약속은 분자 전자구조의 헤밀토니안에서는 만족한다.  \n",
    "\n",
    "이러한 방식에서 에너지의 기댓값을 먼저 쓰고 시작하겠다. \n",
    "$$E_\\Psi = \\langle \\Psi \\vert E \\vert \\Psi \\rangle = \\underline{ \\frac{\\int {\\vert \\Psi \\vert}^2 [\\Psi^{-1} \\hat H \\Psi] d\\tau}{\\int {\\vert \\Psi \\vert}^2 d\\tau}}\\geq E_0$$\n",
    "\n",
    "저 밑줄친 부분이 기존의 Rayleigh-Ritz variational theorem 과 달라졌다. 저건 약간의 식조작을 통해 얻어진다. \n",
    "\n",
    "기존의 Rayleigh-Ritz variational theorem 에서 \n",
    "$$E_\\Psi = \\langle \\Psi \\vert E \\vert \\Psi \\rangle = \\frac{\\int \\Psi^\\dagger \\hat H \\Psi d\\tau}{\\int \\Psi^\\dagger  \\Psi d\\tau} \\geq E_0 --- (기존의 Rayleigh-Ritz variational theorem)$$\n",
    "\n",
    "아래의 두 정의를 사용하여 식을 정리하게된다.\n",
    "\n",
    "$$\\Psi^\\dagger  \\Psi ={\\vert \\Psi \\vert}^2 $$\n",
    "$$\\Psi^{-1} \\Psi = \\mathbb{I} $$\n",
    "\n",
    "그렇게 되면 아래와 같이 우리가 VMC 에서 정의한 형태를 얻을 수 있다. \n",
    "$$ \\frac{\\int \\Psi^\\dagger \\hat H \\Psi d\\tau}{\\int \\Psi^\\dagger  \\Psi d\\tau} = \\frac{\\int \\Psi^\\dagger \\textcolor{red}{\\mathbb{I}} \\hat H \\Psi d\\tau}{\\int \\Psi^\\dagger  \\Psi d\\tau} = \\frac{\\int \\Psi^\\dagger \\textcolor{red}{\\mathbb{ \\Psi} \\Psi^{-1}} \\hat H \\Psi d\\tau}{\\int \\Psi^\\dagger  \\Psi d\\tau} = \\frac{\\int {\\vert \\Psi \\vert}^2 [\\Psi^{-1} \\hat H \\Psi] d\\tau}{\\int {\\vert \\Psi \\vert}^2 d\\tau}$$\n",
    "\n",
    "이러한 형태에서, 적분부분을 아래와 같이 두가지의 형태로 나누어 생각 할 수 있다. \n",
    "\n",
    "$$\\frac{\\int \\textcolor{green}{ {\\vert \\Psi \\vert}^2 } \\textcolor{lightblue}{[\\Psi^{-1} \\hat H \\Psi]} d\\tau}{ \\textcolor{green}{\\int {\\vert \\Psi \\vert}^2 d\\tau}}$$\n",
    "\n",
    "초록색으로 표현된 부분은, $\\frac{특정 에너지의 확률}{전체 확률} $ 로 보고자 하는 시스템에서 특정 에너지를 관측할 확률이고 ($\\therefore \\textcolor{green}{\\frac{{ {\\vert \\Psi \\vert}^2 }}{\\int {\\vert \\Psi \\vert}^2 d\\tau}} := \\mathcal{P}(\\tau)$)\n",
    "\n",
    "하늘색으로 표현된 부분을 특정 $\\tau$ 에서의 에너지이다. ($\\therefore \\textcolor{lightblue}{[\\Psi^{-1} \\hat H \\Psi]} := E(\\tau)$)\n",
    "\n",
    "즉, 우리가 구하고자 하는 기댓값을, 고전적인 확률의 정의로 쓸 수 있다.\n",
    "$$ E_\\Psi = \\int  E(\\tau) \\mathcal{P}(\\tau) d\\tau $$\n",
    "\n",
    "이제 이 식에 약간의 근사(Metropilis-Hastings (MH) algorithm)를 가할것이다. 이 근사는, 수학적으로는 연속적인 적분을 이산적인 M개의 점에 대한 급수로 바꾸게 된다. 여기서 적분 항에 들어있던 확률 분포 $\\mathcal{P}(\\tau) $ 는 $(\\tau)_k $로 변하여, 각 k번째 점의 분포를 나타내는 식으로 바뀌게 된다. \n",
    "\n",
    "$$ E_\\Psi \\approx \\frac{1}{M} \t\\sum_{k=1}^M  E(\\tau)_k  $$\n",
    "\n",
    "\n",
    "확률 분포 $\\mathcal{P}(\\tau) $ 는 $(\\tau)_k $로 바꿀때  Markov chain Monte Carlo (MCMC) 방식을 사용하여 확률 분포를 M점들의 분포로 바꾸게 된다. \n",
    "\n",
    "예시로 아래의 확률분포를 샘플링 해보자. \n",
    "     $$ \\mathcal{P}(x) = \\begin{cases}\n",
    "            0, & x < 0 \\newline\n",
    "            e^{-x}, & x \\geq 0 \n",
    "            \\end{cases} $$\n",
    "\n",
    "여기서 MH 알고리즘과 \"랜덤워크\" 커널 (y = x + N(0,1)) (N : 정규분포), 그리고 수용 확률은 $A = min (1, \\frac{\\mathcal{p}(y)}{\\mathcal{p}(x_t)})$ 을 사용한다. \n",
    "\n",
    "이 예제 코드는 아래와 같다. "
   ]
  },
  {
   "cell_type": "code",
   "execution_count": 7,
   "metadata": {},
   "outputs": [
    {
     "data": {
      "image/png": "[encoded data removed]",
      "text/plain": [
       "<Figure size 640x480 with 1 Axes>"
      ]
     },
     "metadata": {},
     "output_type": "display_data"
    }
   ],
   "source": [
    "def p(x):\n",
    "  if x < 0:\n",
    "    y = 0\n",
    "  else:\n",
    "    y = np.exp(-x)\n",
    "  return(y)\n",
    "\n",
    "n = 10000 # Size of the Markov chain stationary distribution\n",
    "\n",
    "# Use np.linspace to create an array of n numbers between 0 and n\n",
    "index = np.linspace(0, n, num=n)\n",
    "x = np.linspace(0, n, num=n)\n",
    "\n",
    "x[0] = 3     # Initialize to 3\n",
    "for i in range(1, n):\n",
    "  current_x = x[i-1]\n",
    "\n",
    "  # We add a N(0,1) random number to x\n",
    "  proposed_x = current_x + stats.norm.rvs(loc=0, scale=1, size=1, random_state=None)\n",
    "\n",
    "  A = min(1, p(proposed_x)/p(current_x))\n",
    "\n",
    "  r = np.random.uniform(0,1) # Generate a uniform random number in [0, 1]\n",
    "\n",
    "  if r < A:\n",
    "    x[i] = proposed_x       # Accept move with probabilty min(1,A)\n",
    "  else:\n",
    "    x[i] = current_x        # Otherwise \"reject\" move, and stay where we are\n",
    "\n",
    "plt.plot(index, x, label=\"Trace plot\")\n",
    "plt.xlabel('Index')\n",
    "plt.ylabel('MH value')\n",
    "plt.legend()\n",
    "plt.show()"
   ]
  },
  {
   "cell_type": "markdown",
   "metadata": {},
   "source": [
    "위 그림은, 각 k 점이 어떤 x값(MH value) 를 가지는지 나타내는 그림이다. \n",
    "\n",
    "즉, 확률 분포를 M개의 k점의 분포로 변환 하였다. "
   ]
  },
  {
   "cell_type": "markdown",
   "metadata": {},
   "source": [
    "이러한 확률분포를 통해 주어진 샘플에서, 최적의 bin의 width 를 찾기위한 Freedman–Diaconis rule 을 이용해 최적의 bin 값을 계산한다.\n",
    "$$ Bin width = \\frac {2IQR(x)}{\\sqrt{N}^{1/3}}$$\n"
   ]
  },
  {
   "cell_type": "code",
   "execution_count": 23,
   "metadata": {},
   "outputs": [
    {
     "name": "stdout",
     "output_type": "stream",
     "text": [
      "Freedman–Diaconis number of bins: 73\n"
     ]
    }
   ],
   "source": [
    "q25, q75 = np.percentile(x, [25, 75]) #계산에 필요한 사분위수의 범위(IQR)의 두배 를 계산한다. \n",
    "bin_width = 2 * (q75 - q25) * len(x) ** (-1/3) #Freedman–Diaconis rule 을 이용해 최적의 bin 값을 계산한다.\n",
    "bins = round((x.max() - x.min()) / bin_width) #분포의 최대값과 최솟값의 차이를 bin값으로 나눠 필요한 bin의 개수를 구한다. \n",
    "print(\"Freedman–Diaconis number of bins:\", bins)"
   ]
  },
  {
   "cell_type": "markdown",
   "metadata": {},
   "source": [
    "그럼 아래와 같이 Markov Chain의 x값에 대한 확률 분포 그림을 그려 볼 수 있다. \n",
    "\n",
    "그리고 이 그림은, 앞서 정의한 확률분포와 어느정도 비슷하다는것을 알 수 있고, 따라서 markov chain은 분포 $\\mathcal{p}(x)$ 에 대해 좋은 근사를 보여준다는 것을 알 수 있다. "
   ]
  },
  {
   "cell_type": "code",
   "execution_count": 31,
   "metadata": {},
   "outputs": [
    {
     "data": {
      "image/png": "[encoded data removed]",
      "text/plain": [
       "<Figure size 640x480 with 1 Axes>"
      ]
     },
     "metadata": {},
     "output_type": "display_data"
    }
   ],
   "source": [
    "def pp(x):\n",
    "    return np.exp(-x)\n",
    "X = np.arange(0,np.max(x),0.05)\n",
    "plt.hist(x, density=True, bins=bins, label = 'MCMC distribution')\n",
    "plt.plot(X, pp(X), label='probablity')\n",
    "plt.ylabel('Density')\n",
    "plt.xlabel('x')\n",
    "plt.legend()\n",
    "plt.show()"
   ]
  },
  {
   "cell_type": "code",
   "execution_count": 32,
   "metadata": {},
   "outputs": [],
   "source": [
    "def run_PySCF(info_dict, pyqmc=True, show=True):\n",
    "  # Reset the files\n",
    "  for fname in ['mf.hdf5','optimized_wf.hdf5','vmc_data.hdf5','dmc.hdf5']:\n",
    "    if os.path.isfile(fname):\n",
    "        os.remove(fname)\n",
    "  \n",
    "  atoms = info_dict['atoms']\n",
    "  coords = info_dict['coords']\n",
    "  charge = info_dict['charge']\n",
    "  multiplicity = info_dict['multiplicity']\n",
    "  atom_pair = info_dict['atom_pair']\n",
    "\n",
    "  s = ''\n",
    "  k = 0\n",
    "  for atom in atoms:\n",
    "    s += atoms[k] + ' ' + str(coords[k][0]) + ' ' + str(coords[k][1]) + ' ' + str(coords[k][2]) + '; '\n",
    "    k += 1\n",
    "  s = s[0:-2]\n",
    "  \n",
    "  mol_PySCF = gto.M(atom = s)  \n",
    "  mf = scf.RHF(mol_PySCF)\n",
    "  mf.chkfile = \"mf.hdf5\"\n",
    "  \n",
    "  conv, e, mo_e, mo, mo_occ = scf.hf.kernel(mf)\n",
    "  if show:\n",
    "    if conv:\n",
    "      print(\"PySCF restricted HF (RHF) converged ground-state energy: {:.12f}\".format(e))\n",
    "    else:\n",
    "      print(\"PySCF restricted HF (RHF) ground-state computation failed to converge\")\n",
    "\n",
    "  if pyqmc:\n",
    "    pyq.OPTIMIZE(\"mf.hdf5\",# Construct a Slater-Jastrow wave function from the pyscf output\n",
    "      \"optimized_wf.hdf5\", # Store optimized parameters in this file.\n",
    "      nconfig=100,         # Optimize using this many Monte Carlo samples/configurations\n",
    "      max_iterations=4,    # 4 optimization steps\n",
    "      verbose=False)\n",
    "\n",
    "    with h5py.File(\"optimized_wf.hdf5\") as f:\n",
    "      iter = f['iteration']\n",
    "      energy = f['energy']\n",
    "      error = f['energy_error']\n",
    "      l = energy.shape[0]\n",
    "      e = energy[l-1]\n",
    "      err = error[l-1]\n",
    "      if show:\n",
    "        if err < 0.1:\n",
    "          print(\"Iteration, Energy, Error\")\n",
    "          for k in iter:\n",
    "            print(\"{}:         {:.4f} {:.4f}\".format(k, energy[k], error[k]))\n",
    "          print(\"PyQMC Monte Carlo converged ground-state energy: {:.12f}, error: {:.4f}\".format(e, err))\n",
    "        else:\n",
    "          print(\"PyQMC Monte Carlo failed to converge\")\n",
    "\n",
    "  return conv, e"
   ]
  },
  {
   "cell_type": "markdown",
   "metadata": {},
   "source": []
  },
  {
   "cell_type": "markdown",
   "metadata": {},
   "source": [
    "### 5.1.3. Quantum Phase Estimation (QPE)"
   ]
  },
  {
   "cell_type": "code",
   "execution_count": 8,
   "metadata": {},
   "outputs": [],
   "source": [
    "# QPE"
   ]
  },
  {
   "cell_type": "markdown",
   "metadata": {},
   "source": [
    "### 5.1.4. Description of the VQE algorithm\n",
    "\n",
    "##### Figure - VQE Algorithm"
   ]
  },
  {
   "cell_type": "markdown",
   "metadata": {},
   "source": [
    "#### Trial wavefunctions"
   ]
  },
  {
   "cell_type": "markdown",
   "metadata": {},
   "source": [
    "### 5.2. Example chemical calculations"
   ]
  },
  {
   "cell_type": "code",
   "execution_count": 9,
   "metadata": {},
   "outputs": [],
   "source": [
    "# Example chemical calculations"
   ]
  },
  {
   "cell_type": "markdown",
   "metadata": {},
   "source": [
    "### 5.2.1. Hydrogen molecule"
   ]
  },
  {
   "cell_type": "code",
   "execution_count": 10,
   "metadata": {},
   "outputs": [],
   "source": [
    "# H2 molecule"
   ]
  },
  {
   "cell_type": "markdown",
   "metadata": {},
   "source": [
    "##### Figure - Ground state of the $H_2$ molecule with VQE using the Two-Local circuit and SLSQP"
   ]
  },
  {
   "cell_type": "code",
   "execution_count": 11,
   "metadata": {},
   "outputs": [],
   "source": [
    "# H2 molecule"
   ]
  },
  {
   "cell_type": "markdown",
   "metadata": {},
   "source": [
    "#### Computing the BOPES"
   ]
  },
  {
   "cell_type": "code",
   "execution_count": 12,
   "metadata": {},
   "outputs": [],
   "source": [
    "# BOPES of H2"
   ]
  },
  {
   "cell_type": "markdown",
   "metadata": {},
   "source": [
    "### 5.2.2. Lithium hydride molecule"
   ]
  },
  {
   "cell_type": "code",
   "execution_count": 13,
   "metadata": {},
   "outputs": [],
   "source": [
    "# LiH molecule"
   ]
  },
  {
   "cell_type": "markdown",
   "metadata": {},
   "source": [
    "### Varying the lithium hydride molecule"
   ]
  },
  {
   "cell_type": "code",
   "execution_count": 14,
   "metadata": {},
   "outputs": [],
   "source": [
    "# Vary LiH"
   ]
  },
  {
   "cell_type": "markdown",
   "metadata": {},
   "source": [
    "### Solving for the Ground-state"
   ]
  },
  {
   "cell_type": "code",
   "execution_count": 15,
   "metadata": {},
   "outputs": [],
   "source": [
    "# Ground state for LiH"
   ]
  },
  {
   "cell_type": "markdown",
   "metadata": {},
   "source": [
    "##### Figure 5.15 - Ground state of the $LiH$ molecule with VQE using the Two-Local circuit and SLSQP"
   ]
  },
  {
   "cell_type": "code",
   "execution_count": 16,
   "metadata": {},
   "outputs": [],
   "source": [
    "# SLSQP LiH"
   ]
  },
  {
   "cell_type": "markdown",
   "metadata": {},
   "source": [
    "#### Computing the Born-Oppenheimer Potential Energy Surface (BOPES)"
   ]
  },
  {
   "cell_type": "code",
   "execution_count": 17,
   "metadata": {},
   "outputs": [],
   "source": [
    "# BOPES LiH"
   ]
  },
  {
   "cell_type": "markdown",
   "metadata": {},
   "source": [
    "### 5.2.3. Marcro molecule"
   ]
  },
  {
   "cell_type": "code",
   "execution_count": 18,
   "metadata": {},
   "outputs": [],
   "source": [
    "# Macro Molecule"
   ]
  },
  {
   "cell_type": "markdown",
   "metadata": {},
   "source": [
    "#### ASE atomic visulization\n",
    "\n",
    "##### Figure - Macro Molecule"
   ]
  },
  {
   "cell_type": "code",
   "execution_count": 19,
   "metadata": {},
   "outputs": [],
   "source": [
    "#Macro Molecule"
   ]
  },
  {
   "cell_type": "markdown",
   "metadata": {},
   "source": [
    "### Solving for the Ground-state"
   ]
  },
  {
   "cell_type": "code",
   "execution_count": 20,
   "metadata": {},
   "outputs": [],
   "source": [
    "#Ground State for Macro Molecule"
   ]
  },
  {
   "cell_type": "markdown",
   "metadata": {},
   "source": [
    "### Computing the BOPES"
   ]
  },
  {
   "cell_type": "code",
   "execution_count": 21,
   "metadata": {},
   "outputs": [],
   "source": [
    "# BOPES of Macro Molecule"
   ]
  },
  {
   "cell_type": "markdown",
   "metadata": {},
   "source": [
    "## Summary"
   ]
  },
  {
   "cell_type": "code",
   "execution_count": null,
   "metadata": {},
   "outputs": [],
   "source": []
  }
 ],
 "metadata": {
  "kernelspec": {
   "display_name": "Python 3",
   "language": "python",
   "name": "python3"
  },
  "language_info": {
   "codemirror_mode": {
    "name": "ipython",
    "version": 3
   },
   "file_extension": ".py",
   "mimetype": "text/x-python",
   "name": "python",
   "nbconvert_exporter": "python",
   "pygments_lexer": "ipython3",
   "version": "3.9.6"
  }
 },
 "nbformat": 4,
 "nbformat_minor": 2
}
